{
 "cells": [
  {
   "cell_type": "code",
   "execution_count": 34,
   "id": "dbda1603",
   "metadata": {},
   "outputs": [],
   "source": [
    "from pyspark.sql import SparkSession\n",
    "import pyspark.sql.functions as F\n",
    "from pyspark.sql.types import DateType\n",
    "from pyspark.sql.window import Window"
   ]
  },
  {
   "cell_type": "code",
   "execution_count": 35,
   "id": "ec320e76",
   "metadata": {},
   "outputs": [],
   "source": [
    "spark = SparkSession.builder.getOrCreate()\n",
    "df = spark.read\\\n",
    "            .option(\"header\",True) \\\n",
    "            .format(\"csv\") \\\n",
    "            .load(\"../data/uncleaned_data.csv\")"
   ]
  },
  {
   "cell_type": "code",
   "execution_count": 36,
   "id": "b36d4568",
   "metadata": {},
   "outputs": [
    {
     "data": {
      "text/plain": [
       "[Row(_kde_id=541900, InvoiceNo='581587', StockCode='22726', Description='ALARM CLOCK BAKELIKE GREEN', Quantity='4', InvoiceDate='12/9/2011 12:50', UnitPrice='3.75', CustomerID='12680', Country='France'),\n",
       " Row(_kde_id=541901, InvoiceNo='581587', StockCode='22730', Description='ALARM CLOCK BAKELIKE IVORY', Quantity='4', InvoiceDate='12/9/2011 12:50', UnitPrice='3.75', CustomerID='12680', Country='France'),\n",
       " Row(_kde_id=541902, InvoiceNo='581587', StockCode='22367', Description='CHILDRENS APRON SPACEBOY DESIGN', Quantity='8', InvoiceDate='12/9/2011 12:50', UnitPrice='1.95', CustomerID='12680', Country='France'),\n",
       " Row(_kde_id=541903, InvoiceNo='581587', StockCode='22629', Description='SPACEBOY LUNCH BOX ', Quantity='12', InvoiceDate='12/9/2011 12:50', UnitPrice='1.95', CustomerID='12680', Country='France'),\n",
       " Row(_kde_id=541904, InvoiceNo='581587', StockCode='23256', Description='CHILDRENS CUTLERY SPACEBOY ', Quantity='4', InvoiceDate='12/9/2011 12:50', UnitPrice='4.15', CustomerID='12680', Country='France'),\n",
       " Row(_kde_id=541905, InvoiceNo='581587', StockCode='22613', Description='PACK OF 20 SPACEBOY NAPKINS', Quantity='12', InvoiceDate='12/9/2011 12:50', UnitPrice='0.85', CustomerID='12680', Country='France'),\n",
       " Row(_kde_id=541906, InvoiceNo='581587', StockCode='22899', Description=\"CHILDREN'S APRON DOLLY GIRL \", Quantity='6', InvoiceDate='12/9/2011 12:50', UnitPrice='2.1', CustomerID='12680', Country='France'),\n",
       " Row(_kde_id=541907, InvoiceNo='581587', StockCode='23254', Description='CHILDRENS CUTLERY DOLLY GIRL ', Quantity='4', InvoiceDate='12/9/2011 12:50', UnitPrice='4.15', CustomerID='12680', Country='France'),\n",
       " Row(_kde_id=541908, InvoiceNo='581587', StockCode='23255', Description='CHILDRENS CUTLERY CIRCUS PARADE', Quantity='4', InvoiceDate='12/9/2011 12:50', UnitPrice='4.15', CustomerID='12680', Country='France'),\n",
       " Row(_kde_id=541909, InvoiceNo='581587', StockCode='22138', Description='BAKING SET 9 PIECE RETROSPOT ', Quantity='3', InvoiceDate='12/9/2011 12:50', UnitPrice='4.95', CustomerID='12680', Country='France')]"
      ]
     },
     "execution_count": 36,
     "metadata": {},
     "output_type": "execute_result"
    }
   ],
   "source": [
    "# w = Window.partitionBy([\"InvoiceNo\", \"StockCode\", \"Quantity\", \"InvoiceDate\", \"UnitPrice\", \"Country\"])\n",
    "w = Window.orderBy(F.lit(\"A\")) # orderBy as it is by a dummy value\n",
    "\n",
    "df.withColumn(\n",
    "    \"_kde_id\",\n",
    "    F.row_number().over(w)\n",
    ").select(\"_kde_id\", *df.columns).tail(10)"
   ]
  },
  {
   "cell_type": "code",
   "execution_count": 37,
   "id": "e0fea96e",
   "metadata": {},
   "outputs": [
    {
     "name": "stdout",
     "output_type": "stream",
     "text": [
      "+-------+------------------+------------------+--------------------+-----------------+---------------+-----------------+------------------+-----------+\n",
      "|summary|         InvoiceNo|         StockCode|         Description|         Quantity|    InvoiceDate|        UnitPrice|        CustomerID|    Country|\n",
      "+-------+------------------+------------------+--------------------+-----------------+---------------+-----------------+------------------+-----------+\n",
      "|  count|            541909|            541909|              540455|           541909|         541909|           541909|            406829|     541909|\n",
      "|   mean|  559965.752026781|27623.240210938104|             20713.0| 9.55224954743324|           null|4.611113626089252|15287.690570239585|       null|\n",
      "| stddev|13428.417280798243|16799.737628427687|                null|218.0811578502336|           null|96.75985306117948|1713.6003033215975|       null|\n",
      "|    min|            536365|             10002| 4 PURPLE FLOCK D...|               -1|1/10/2011 10:04|        -11062.06|             12346|  Australia|\n",
      "|    max|           C581569|                 m|   wrongly sold sets|              992|  9/9/2011 9:52|            99.96|             18287|Unspecified|\n",
      "+-------+------------------+------------------+--------------------+-----------------+---------------+-----------------+------------------+-----------+\n",
      "\n"
     ]
    }
   ],
   "source": [
    "df.describe().show()"
   ]
  },
  {
   "cell_type": "code",
   "execution_count": 38,
   "id": "6a713e7b",
   "metadata": {},
   "outputs": [
    {
     "data": {
      "text/plain": [
       "541909"
      ]
     },
     "execution_count": 38,
     "metadata": {},
     "output_type": "execute_result"
    }
   ],
   "source": [
    "df.count()"
   ]
  },
  {
   "cell_type": "code",
   "execution_count": 39,
   "id": "11d736fd",
   "metadata": {},
   "outputs": [
    {
     "data": {
      "text/plain": [
       "536641"
      ]
     },
     "execution_count": 39,
     "metadata": {},
     "output_type": "execute_result"
    }
   ],
   "source": [
    "df.dropDuplicates(df.columns).count()"
   ]
  },
  {
   "cell_type": "code",
   "execution_count": 40,
   "id": "6d7ba640",
   "metadata": {},
   "outputs": [
    {
     "name": "stdout",
     "output_type": "stream",
     "text": [
      "+---------+---------+--------------------+--------+----------------+---------+----------+--------------+-----+\n",
      "|InvoiceNo|StockCode|         Description|Quantity|     InvoiceDate|UnitPrice|CustomerID|       Country|count|\n",
      "+---------+---------+--------------------+--------+----------------+---------+----------+--------------+-----+\n",
      "|   555524|    22698|PINK REGENCY TEAC...|       1|  6/5/2011 11:37|     2.95|     16923|United Kingdom|   20|\n",
      "|   555524|    22697|GREEN REGENCY TEA...|       1|  6/5/2011 11:37|     2.95|     16923|United Kingdom|   12|\n",
      "|   572861|    22775|PURPLE DRAWERKNOB...|      12|10/26/2011 12:46|     1.25|     14102|United Kingdom|    8|\n",
      "|   540524|    21756|BATH BUILDING BLO...|       1|  1/9/2011 12:53|     5.95|     16735|United Kingdom|    6|\n",
      "|   541266|    21755|LOVE BUILDING BLO...|       1| 1/16/2011 16:25|     5.95|     15673|United Kingdom|    6|\n",
      "|   541266|    21754|HOME BUILDING BLO...|       1| 1/16/2011 16:25|     5.95|     15673|United Kingdom|    6|\n",
      "|   578289|    23395|BELLE JARDINIERE ...|       1|11/23/2011 14:07|     3.75|     17841|United Kingdom|    6|\n",
      "|   538514|    21756|BATH BUILDING BLO...|       1|12/12/2010 14:27|     5.95|     15044|United Kingdom|    6|\n",
      "|   572344|        M|              Manual|      48|10/24/2011 10:43|      1.5|     14607|United Kingdom|    6|\n",
      "|   537224|    70007|HI TEC ALPINE HAN...|       1| 12/5/2010 16:24|     1.65|     13174|United Kingdom|    5|\n",
      "|   547712|    22699|ROSES REGENCY TEA...|       1| 3/24/2011 19:31|     2.95|     16905|United Kingdom|    5|\n",
      "|   550331|    85202|HANGING WOOD AND ...|       1| 4/17/2011 13:43|     0.42|     15555|United Kingdom|    5|\n",
      "|   574481|    23084|  RABBIT NIGHT LIGHT|       1| 11/4/2011 12:45|     2.08|     18022|United Kingdom|    5|\n",
      "|   538517|    22749|FELTCRAFT PRINCES...|       1|12/12/2010 16:05|     3.75|     17618|United Kingdom|    5|\n",
      "|   572834|    23035|DRAWER KNOB CERAM...|       6|10/26/2011 11:46|     1.45|     12748|United Kingdom|    4|\n",
      "|   544450|   47567B|TEA TIME KITCHEN ...|       1| 2/20/2011 12:23|     5.95|     17811|United Kingdom|    4|\n",
      "|   579146|    23356|LOVE HOT WATER BO...|       1|11/28/2011 13:14|     5.95|     16347|United Kingdom|    4|\n",
      "|   547651|    22249|DECORATION WHITE ...|       1| 3/24/2011 12:11|     0.85|     16904|United Kingdom|    4|\n",
      "|   578998|    23215|JINGLE BELL HEART...|       1|11/27/2011 16:05|     2.08|     15436|United Kingdom|    4|\n",
      "|   571286|    17021|NAMASTE SWAGAT IN...|       6|10/16/2011 14:35|      0.3|     14547|United Kingdom|    4|\n",
      "+---------+---------+--------------------+--------+----------------+---------+----------+--------------+-----+\n",
      "only showing top 20 rows\n",
      "\n"
     ]
    }
   ],
   "source": [
    "df \\\n",
    "    .groupby(df.columns) \\\n",
    "    .count() \\\n",
    "    .where('count > 1') \\\n",
    "    .sort('count', ascending=False) \\\n",
    "    .show()"
   ]
  },
  {
   "cell_type": "code",
   "execution_count": 41,
   "id": "34e39089",
   "metadata": {},
   "outputs": [
    {
     "data": {
      "text/plain": [
       "541909"
      ]
     },
     "execution_count": 41,
     "metadata": {},
     "output_type": "execute_result"
    }
   ],
   "source": [
    "df.count()"
   ]
  },
  {
   "cell_type": "code",
   "execution_count": 42,
   "id": "bbf1ceb4",
   "metadata": {},
   "outputs": [
    {
     "name": "stdout",
     "output_type": "stream",
     "text": [
      "+---------+---------+--------------------+--------+--------------+---------+----------+--------------+------------+\n",
      "|InvoiceNo|StockCode|         Description|Quantity|   InvoiceDate|UnitPrice|CustomerID|       Country|index_column|\n",
      "+---------+---------+--------------------+--------+--------------+---------+----------+--------------+------------+\n",
      "|   540538|    20970|PINK FLORAL FELTC...|       1|1/9/2011 14:36|     3.75|     17841|United Kingdom|       49911|\n",
      "+---------+---------+--------------------+--------+--------------+---------+----------+--------------+------------+\n",
      "\n"
     ]
    }
   ],
   "source": [
    "df.withColumn(\"index_column\", F.monotonically_increasing_id())\\\n",
    "    .where(F.col(\"index_column\") == 49911).show()"
   ]
  },
  {
   "cell_type": "code",
   "execution_count": 43,
   "id": "091d1cb1",
   "metadata": {},
   "outputs": [
    {
     "name": "stdout",
     "output_type": "stream",
     "text": [
      "+---------+---------+--------------------+--------+--------------+---------+----------+--------------+------------+\n",
      "|InvoiceNo|StockCode|         Description|Quantity|   InvoiceDate|UnitPrice|CustomerID|       Country|index_column|\n",
      "+---------+---------+--------------------+--------+--------------+---------+----------+--------------+------------+\n",
      "|   540538|    20970|PINK FLORAL FELTC...|       1|1/9/2011 14:36|     3.75|     17841|United Kingdom|       49911|\n",
      "|   540538|    22274|FELTCRAFT DOLL EMILY|       1|1/9/2011 14:36|     2.95|     17841|United Kingdom|  8589934592|\n",
      "|   540538|    22179|SET 10 LIGHTS NIG...|       2|1/9/2011 14:36|     6.75|     17841|United Kingdom|  8589934593|\n",
      "|   540538|   15060B|FAIRY CAKE DESIGN...|       1|1/9/2011 14:36|     3.75|     17841|United Kingdom|  8589934594|\n",
      "|   540538|    22212|FOUR HOOK  WHITE ...|       1|1/9/2011 14:36|      2.1|     17841|United Kingdom|  8589934595|\n",
      "|   540538|    22726|ALARM CLOCK BAKEL...|       1|1/9/2011 14:36|     3.75|     17841|United Kingdom|  8589934596|\n",
      "|   540538|    82482|WOODEN PICTURE FR...|       1|1/9/2011 14:36|     2.55|     17841|United Kingdom|  8589934597|\n",
      "|   540538|    82484|WOOD BLACK BOARD ...|       1|1/9/2011 14:36|     6.45|     17841|United Kingdom|  8589934598|\n",
      "|   540538|    21672|WHITE SPOT RED CE...|       6|1/9/2011 14:36|     1.25|     17841|United Kingdom|  8589934599|\n",
      "|   540538|    82483|WOOD 2 DRAWER CAB...|       3|1/9/2011 14:36|     5.95|     17841|United Kingdom|  8589934600|\n",
      "|   540538|    22358|KINGS CHOICE TEA ...|       1|1/9/2011 14:36|     2.95|     17841|United Kingdom|  8589934601|\n",
      "|   540538|    22766| PHOTO FRAME CORNICE|       1|1/9/2011 14:36|     2.95|     17841|United Kingdom|  8589934602|\n",
      "|   540538|    22795|SWEETHEART RECIPE...|       1|1/9/2011 14:36|     6.75|     17841|United Kingdom|  8589934603|\n",
      "|   540538|   85099B|JUMBO BAG RED RET...|       1|1/9/2011 14:36|     1.95|     17841|United Kingdom|  8589934604|\n",
      "|   540538|    21934|  SKULL SHOULDER BAG|       3|1/9/2011 14:36|     1.65|     17841|United Kingdom|  8589934605|\n",
      "|   540538|    21928|JUMBO BAG SCANDIN...|       1|1/9/2011 14:36|     1.95|     17841|United Kingdom|  8589934606|\n",
      "|   540538|    22661|CHARLOTTE BAG DOL...|       1|1/9/2011 14:36|     0.85|     17841|United Kingdom|  8589934607|\n",
      "|   540538|    22355|CHARLOTTE BAG SUK...|       1|1/9/2011 14:36|     0.85|     17841|United Kingdom|  8589934608|\n",
      "|   540538|    21784|     SHOE SHINE BOX |       1|1/9/2011 14:36|     9.95|     17841|United Kingdom|  8589934609|\n",
      "|   540539|    21733|RED HANGING HEART...|      12|1/9/2011 14:42|     2.95|     18260|United Kingdom|  8589934610|\n",
      "+---------+---------+--------------------+--------+--------------+---------+----------+--------------+------------+\n",
      "only showing top 20 rows\n",
      "\n"
     ]
    }
   ],
   "source": [
    "df.withColumn(\"index_column\", F.monotonically_increasing_id())\\\n",
    "    .where(F.col(\"index_column\") >= 49911).show()"
   ]
  },
  {
   "cell_type": "code",
   "execution_count": 44,
   "id": "ac940a59",
   "metadata": {},
   "outputs": [
    {
     "name": "stdout",
     "output_type": "stream",
     "text": [
      "+---------+---------+------------------------------+--------+--------------+---------+----------+--------------+\n",
      "|InvoiceNo|StockCode|Description                   |Quantity|InvoiceDate   |UnitPrice|CustomerID|Country       |\n",
      "+---------+---------+------------------------------+--------+--------------+---------+----------+--------------+\n",
      "|555524   |22698    |PINK REGENCY TEACUP AND SAUCER|1       |6/5/2011 11:37|2.95     |16923     |United Kingdom|\n",
      "|555524   |22698    |PINK REGENCY TEACUP AND SAUCER|1       |6/5/2011 11:37|2.95     |16923     |United Kingdom|\n",
      "|555524   |22698    |PINK REGENCY TEACUP AND SAUCER|1       |6/5/2011 11:37|2.95     |16923     |United Kingdom|\n",
      "|555524   |22698    |PINK REGENCY TEACUP AND SAUCER|1       |6/5/2011 11:37|2.95     |16923     |United Kingdom|\n",
      "|555524   |22698    |PINK REGENCY TEACUP AND SAUCER|1       |6/5/2011 11:37|2.95     |16923     |United Kingdom|\n",
      "|555524   |22698    |PINK REGENCY TEACUP AND SAUCER|1       |6/5/2011 11:37|2.95     |16923     |United Kingdom|\n",
      "|555524   |22698    |PINK REGENCY TEACUP AND SAUCER|1       |6/5/2011 11:37|2.95     |16923     |United Kingdom|\n",
      "|555524   |22698    |PINK REGENCY TEACUP AND SAUCER|1       |6/5/2011 11:37|2.95     |16923     |United Kingdom|\n",
      "|555524   |22698    |PINK REGENCY TEACUP AND SAUCER|1       |6/5/2011 11:37|2.95     |16923     |United Kingdom|\n",
      "|555524   |22698    |PINK REGENCY TEACUP AND SAUCER|1       |6/5/2011 11:37|2.95     |16923     |United Kingdom|\n",
      "|555524   |22698    |PINK REGENCY TEACUP AND SAUCER|1       |6/5/2011 11:37|2.95     |16923     |United Kingdom|\n",
      "|555524   |22698    |PINK REGENCY TEACUP AND SAUCER|1       |6/5/2011 11:37|2.95     |16923     |United Kingdom|\n",
      "|555524   |22698    |PINK REGENCY TEACUP AND SAUCER|1       |6/5/2011 11:37|2.95     |16923     |United Kingdom|\n",
      "|555524   |22698    |PINK REGENCY TEACUP AND SAUCER|1       |6/5/2011 11:37|2.95     |16923     |United Kingdom|\n",
      "|555524   |22698    |PINK REGENCY TEACUP AND SAUCER|1       |6/5/2011 11:37|2.95     |16923     |United Kingdom|\n",
      "|555524   |22698    |PINK REGENCY TEACUP AND SAUCER|1       |6/5/2011 11:37|2.95     |16923     |United Kingdom|\n",
      "|555524   |22698    |PINK REGENCY TEACUP AND SAUCER|1       |6/5/2011 11:37|2.95     |16923     |United Kingdom|\n",
      "|555524   |22698    |PINK REGENCY TEACUP AND SAUCER|1       |6/5/2011 11:37|2.95     |16923     |United Kingdom|\n",
      "|555524   |22698    |PINK REGENCY TEACUP AND SAUCER|1       |6/5/2011 11:37|2.95     |16923     |United Kingdom|\n",
      "|555524   |22698    |PINK REGENCY TEACUP AND SAUCER|1       |6/5/2011 11:37|2.95     |16923     |United Kingdom|\n",
      "+---------+---------+------------------------------+--------+--------------+---------+----------+--------------+\n",
      "\n"
     ]
    }
   ],
   "source": [
    "df.where((F.col(\"InvoiceNo\") == 555524) & (F.col(\"StockCode\") == 22698)).show(truncate=False)"
   ]
  },
  {
   "cell_type": "code",
   "execution_count": 45,
   "id": "dfb4fdde",
   "metadata": {},
   "outputs": [
    {
     "name": "stdout",
     "output_type": "stream",
     "text": [
      "+---------+---------+--------------------+--------+--------------+---------+----------+--------------+\n",
      "|InvoiceNo|StockCode|         Description|Quantity|   InvoiceDate|UnitPrice|CustomerID|       Country|\n",
      "+---------+---------+--------------------+--------+--------------+---------+----------+--------------+\n",
      "|   536365|   85123A|WHITE HANGING HEA...|       6|12/1/2010 8:26|     2.55|     17850|United Kingdom|\n",
      "|   536365|    71053| WHITE METAL LANTERN|       6|12/1/2010 8:26|     3.39|     17850|United Kingdom|\n",
      "|   536365|   84406B|CREAM CUPID HEART...|       8|12/1/2010 8:26|     2.75|     17850|United Kingdom|\n",
      "|   536365|   84029G|KNITTED UNION FLA...|       6|12/1/2010 8:26|     3.39|     17850|United Kingdom|\n",
      "|   536365|   84029E|RED WOOLLY HOTTIE...|       6|12/1/2010 8:26|     3.39|     17850|United Kingdom|\n",
      "|   536365|    22752|SET 7 BABUSHKA NE...|       2|12/1/2010 8:26|     7.65|     17850|United Kingdom|\n",
      "|   536365|    21730|GLASS STAR FROSTE...|       6|12/1/2010 8:26|     4.25|     17850|United Kingdom|\n",
      "|   536366|    22633|HAND WARMER UNION...|       6|12/1/2010 8:28|     1.85|     17850|United Kingdom|\n",
      "|   536366|    22632|HAND WARMER RED P...|       6|12/1/2010 8:28|     1.85|     17850|United Kingdom|\n",
      "|   536367|    84879|ASSORTED COLOUR B...|      32|12/1/2010 8:34|     1.69|     13047|United Kingdom|\n",
      "|   536367|    22745|POPPY'S PLAYHOUSE...|       6|12/1/2010 8:34|      2.1|     13047|United Kingdom|\n",
      "|   536367|    22748|POPPY'S PLAYHOUSE...|       6|12/1/2010 8:34|      2.1|     13047|United Kingdom|\n",
      "|   536367|    22749|FELTCRAFT PRINCES...|       8|12/1/2010 8:34|     3.75|     13047|United Kingdom|\n",
      "|   536367|    22310|IVORY KNITTED MUG...|       6|12/1/2010 8:34|     1.65|     13047|United Kingdom|\n",
      "|   536367|    84969|BOX OF 6 ASSORTED...|       6|12/1/2010 8:34|     4.25|     13047|United Kingdom|\n",
      "|   536367|    22623|BOX OF VINTAGE JI...|       3|12/1/2010 8:34|     4.95|     13047|United Kingdom|\n",
      "|   536367|    22622|BOX OF VINTAGE AL...|       2|12/1/2010 8:34|     9.95|     13047|United Kingdom|\n",
      "|   536367|    21754|HOME BUILDING BLO...|       3|12/1/2010 8:34|     5.95|     13047|United Kingdom|\n",
      "|   536367|    21755|LOVE BUILDING BLO...|       3|12/1/2010 8:34|     5.95|     13047|United Kingdom|\n",
      "|   536367|    21777|RECIPE BOX WITH M...|       4|12/1/2010 8:34|     7.95|     13047|United Kingdom|\n",
      "+---------+---------+--------------------+--------+--------------+---------+----------+--------------+\n",
      "only showing top 20 rows\n",
      "\n"
     ]
    }
   ],
   "source": [
    "df.where((F.col(\"Quantity\") != 1)).show()"
   ]
  },
  {
   "cell_type": "code",
   "execution_count": 46,
   "id": "e9a3168c",
   "metadata": {},
   "outputs": [
    {
     "name": "stdout",
     "output_type": "stream",
     "text": [
      "+---------+---------+--------------------+--------+--------------+---------+----------+--------------+--------------+\n",
      "|InvoiceNo|StockCode|         Description|Quantity|   InvoiceDate|UnitPrice|CustomerID|       Country|  invoice_date|\n",
      "+---------+---------+--------------------+--------+--------------+---------+----------+--------------+--------------+\n",
      "|   536365|   85123A|WHITE HANGING HEA...|       6|12/1/2010 8:26|     2.55|     17850|United Kingdom|12/1/2010 8:26|\n",
      "|   536365|    71053| WHITE METAL LANTERN|       6|12/1/2010 8:26|     3.39|     17850|United Kingdom|12/1/2010 8:26|\n",
      "|   536365|   84406B|CREAM CUPID HEART...|       8|12/1/2010 8:26|     2.75|     17850|United Kingdom|12/1/2010 8:26|\n",
      "|   536365|   84029G|KNITTED UNION FLA...|       6|12/1/2010 8:26|     3.39|     17850|United Kingdom|12/1/2010 8:26|\n",
      "|   536365|   84029E|RED WOOLLY HOTTIE...|       6|12/1/2010 8:26|     3.39|     17850|United Kingdom|12/1/2010 8:26|\n",
      "|   536365|    22752|SET 7 BABUSHKA NE...|       2|12/1/2010 8:26|     7.65|     17850|United Kingdom|12/1/2010 8:26|\n",
      "|   536365|    21730|GLASS STAR FROSTE...|       6|12/1/2010 8:26|     4.25|     17850|United Kingdom|12/1/2010 8:26|\n",
      "|   536366|    22633|HAND WARMER UNION...|       6|12/1/2010 8:28|     1.85|     17850|United Kingdom|12/1/2010 8:28|\n",
      "|   536366|    22632|HAND WARMER RED P...|       6|12/1/2010 8:28|     1.85|     17850|United Kingdom|12/1/2010 8:28|\n",
      "|   536367|    84879|ASSORTED COLOUR B...|      32|12/1/2010 8:34|     1.69|     13047|United Kingdom|12/1/2010 8:34|\n",
      "|   536367|    22745|POPPY'S PLAYHOUSE...|       6|12/1/2010 8:34|      2.1|     13047|United Kingdom|12/1/2010 8:34|\n",
      "|   536367|    22748|POPPY'S PLAYHOUSE...|       6|12/1/2010 8:34|      2.1|     13047|United Kingdom|12/1/2010 8:34|\n",
      "|   536367|    22749|FELTCRAFT PRINCES...|       8|12/1/2010 8:34|     3.75|     13047|United Kingdom|12/1/2010 8:34|\n",
      "|   536367|    22310|IVORY KNITTED MUG...|       6|12/1/2010 8:34|     1.65|     13047|United Kingdom|12/1/2010 8:34|\n",
      "|   536367|    84969|BOX OF 6 ASSORTED...|       6|12/1/2010 8:34|     4.25|     13047|United Kingdom|12/1/2010 8:34|\n",
      "|   536367|    22623|BOX OF VINTAGE JI...|       3|12/1/2010 8:34|     4.95|     13047|United Kingdom|12/1/2010 8:34|\n",
      "|   536367|    22622|BOX OF VINTAGE AL...|       2|12/1/2010 8:34|     9.95|     13047|United Kingdom|12/1/2010 8:34|\n",
      "|   536367|    21754|HOME BUILDING BLO...|       3|12/1/2010 8:34|     5.95|     13047|United Kingdom|12/1/2010 8:34|\n",
      "|   536367|    21755|LOVE BUILDING BLO...|       3|12/1/2010 8:34|     5.95|     13047|United Kingdom|12/1/2010 8:34|\n",
      "|   536367|    21777|RECIPE BOX WITH M...|       4|12/1/2010 8:34|     7.95|     13047|United Kingdom|12/1/2010 8:34|\n",
      "+---------+---------+--------------------+--------+--------------+---------+----------+--------------+--------------+\n",
      "only showing top 20 rows\n",
      "\n"
     ]
    }
   ],
   "source": [
    "df.withColumn(\"invoice_date\", F.trim(F.col(\"InvoiceDate\"))).show()"
   ]
  },
  {
   "cell_type": "code",
   "execution_count": 47,
   "id": "0c8455fc",
   "metadata": {},
   "outputs": [
    {
     "name": "stdout",
     "output_type": "stream",
     "text": [
      "+---------+---------+--------------------+--------+--------------+---------+----------+--------------+--------------+\n",
      "|InvoiceNo|StockCode|         Description|Quantity|   InvoiceDate|UnitPrice|CustomerID|       Country|  invoice_date|\n",
      "+---------+---------+--------------------+--------+--------------+---------+----------+--------------+--------------+\n",
      "|   536365|   85123A|WHITE HANGING HEA...|       6|12/1/2010 8:26|     2.55|     17850|United Kingdom|12/1/2010 8:26|\n",
      "|   536365|    71053| WHITE METAL LANTERN|       6|12/1/2010 8:26|     3.39|     17850|United Kingdom|12/1/2010 8:26|\n",
      "|   536365|   84406B|CREAM CUPID HEART...|       8|12/1/2010 8:26|     2.75|     17850|United Kingdom|12/1/2010 8:26|\n",
      "|   536365|   84029G|KNITTED UNION FLA...|       6|12/1/2010 8:26|     3.39|     17850|United Kingdom|12/1/2010 8:26|\n",
      "|   536365|   84029E|RED WOOLLY HOTTIE...|       6|12/1/2010 8:26|     3.39|     17850|United Kingdom|12/1/2010 8:26|\n",
      "|   536365|    22752|SET 7 BABUSHKA NE...|       2|12/1/2010 8:26|     7.65|     17850|United Kingdom|12/1/2010 8:26|\n",
      "|   536365|    21730|GLASS STAR FROSTE...|       6|12/1/2010 8:26|     4.25|     17850|United Kingdom|12/1/2010 8:26|\n",
      "|   536366|    22633|HAND WARMER UNION...|       6|12/1/2010 8:28|     1.85|     17850|United Kingdom|12/1/2010 8:28|\n",
      "|   536366|    22632|HAND WARMER RED P...|       6|12/1/2010 8:28|     1.85|     17850|United Kingdom|12/1/2010 8:28|\n",
      "|   536367|    84879|ASSORTED COLOUR B...|      32|12/1/2010 8:34|     1.69|     13047|United Kingdom|12/1/2010 8:34|\n",
      "|   536367|    22745|POPPY'S PLAYHOUSE...|       6|12/1/2010 8:34|      2.1|     13047|United Kingdom|12/1/2010 8:34|\n",
      "|   536367|    22748|POPPY'S PLAYHOUSE...|       6|12/1/2010 8:34|      2.1|     13047|United Kingdom|12/1/2010 8:34|\n",
      "|   536367|    22749|FELTCRAFT PRINCES...|       8|12/1/2010 8:34|     3.75|     13047|United Kingdom|12/1/2010 8:34|\n",
      "|   536367|    22310|IVORY KNITTED MUG...|       6|12/1/2010 8:34|     1.65|     13047|United Kingdom|12/1/2010 8:34|\n",
      "|   536367|    84969|BOX OF 6 ASSORTED...|       6|12/1/2010 8:34|     4.25|     13047|United Kingdom|12/1/2010 8:34|\n",
      "|   536367|    22623|BOX OF VINTAGE JI...|       3|12/1/2010 8:34|     4.95|     13047|United Kingdom|12/1/2010 8:34|\n",
      "|   536367|    22622|BOX OF VINTAGE AL...|       2|12/1/2010 8:34|     9.95|     13047|United Kingdom|12/1/2010 8:34|\n",
      "|   536367|    21754|HOME BUILDING BLO...|       3|12/1/2010 8:34|     5.95|     13047|United Kingdom|12/1/2010 8:34|\n",
      "|   536367|    21755|LOVE BUILDING BLO...|       3|12/1/2010 8:34|     5.95|     13047|United Kingdom|12/1/2010 8:34|\n",
      "|   536367|    21777|RECIPE BOX WITH M...|       4|12/1/2010 8:34|     7.95|     13047|United Kingdom|12/1/2010 8:34|\n",
      "+---------+---------+--------------------+--------+--------------+---------+----------+--------------+--------------+\n",
      "only showing top 20 rows\n",
      "\n"
     ]
    }
   ],
   "source": [
    "df.withColumn(\"invoice_date\", F.col(\"InvoiceDate\")).show()"
   ]
  },
  {
   "cell_type": "code",
   "execution_count": 48,
   "id": "a7a35f8c",
   "metadata": {},
   "outputs": [
    {
     "name": "stdout",
     "output_type": "stream",
     "text": [
      "+---------+---------+--------------------+--------+--------------+---------+----------+--------------+----------+\n",
      "|InvoiceNo|StockCode|         Description|Quantity|   InvoiceDate|UnitPrice|CustomerID|       Country|unit_price|\n",
      "+---------+---------+--------------------+--------+--------------+---------+----------+--------------+----------+\n",
      "|   536365|   85123A|WHITE HANGING HEA...|       6|12/1/2010 8:26|     2.55|     17850|United Kingdom|       2.6|\n",
      "|   536365|    71053| WHITE METAL LANTERN|       6|12/1/2010 8:26|     3.39|     17850|United Kingdom|       3.4|\n",
      "|   536365|   84406B|CREAM CUPID HEART...|       8|12/1/2010 8:26|     2.75|     17850|United Kingdom|       2.8|\n",
      "|   536365|   84029G|KNITTED UNION FLA...|       6|12/1/2010 8:26|     3.39|     17850|United Kingdom|       3.4|\n",
      "|   536365|   84029E|RED WOOLLY HOTTIE...|       6|12/1/2010 8:26|     3.39|     17850|United Kingdom|       3.4|\n",
      "|   536365|    22752|SET 7 BABUSHKA NE...|       2|12/1/2010 8:26|     7.65|     17850|United Kingdom|       7.7|\n",
      "|   536365|    21730|GLASS STAR FROSTE...|       6|12/1/2010 8:26|     4.25|     17850|United Kingdom|       4.3|\n",
      "|   536366|    22633|HAND WARMER UNION...|       6|12/1/2010 8:28|     1.85|     17850|United Kingdom|       1.9|\n",
      "|   536366|    22632|HAND WARMER RED P...|       6|12/1/2010 8:28|     1.85|     17850|United Kingdom|       1.9|\n",
      "|   536367|    84879|ASSORTED COLOUR B...|      32|12/1/2010 8:34|     1.69|     13047|United Kingdom|       1.7|\n",
      "|   536367|    22745|POPPY'S PLAYHOUSE...|       6|12/1/2010 8:34|      2.1|     13047|United Kingdom|       2.1|\n",
      "|   536367|    22748|POPPY'S PLAYHOUSE...|       6|12/1/2010 8:34|      2.1|     13047|United Kingdom|       2.1|\n",
      "|   536367|    22749|FELTCRAFT PRINCES...|       8|12/1/2010 8:34|     3.75|     13047|United Kingdom|       3.8|\n",
      "|   536367|    22310|IVORY KNITTED MUG...|       6|12/1/2010 8:34|     1.65|     13047|United Kingdom|       1.7|\n",
      "|   536367|    84969|BOX OF 6 ASSORTED...|       6|12/1/2010 8:34|     4.25|     13047|United Kingdom|       4.3|\n",
      "|   536367|    22623|BOX OF VINTAGE JI...|       3|12/1/2010 8:34|     4.95|     13047|United Kingdom|       5.0|\n",
      "|   536367|    22622|BOX OF VINTAGE AL...|       2|12/1/2010 8:34|     9.95|     13047|United Kingdom|      10.0|\n",
      "|   536367|    21754|HOME BUILDING BLO...|       3|12/1/2010 8:34|     5.95|     13047|United Kingdom|       6.0|\n",
      "|   536367|    21755|LOVE BUILDING BLO...|       3|12/1/2010 8:34|     5.95|     13047|United Kingdom|       6.0|\n",
      "|   536367|    21777|RECIPE BOX WITH M...|       4|12/1/2010 8:34|     7.95|     13047|United Kingdom|       8.0|\n",
      "+---------+---------+--------------------+--------+--------------+---------+----------+--------------+----------+\n",
      "only showing top 20 rows\n",
      "\n"
     ]
    }
   ],
   "source": [
    "df.withColumn(\"unit_price\", F.round(F.col(\"UnitPrice\"), 1)).show()"
   ]
  },
  {
   "cell_type": "code",
   "execution_count": 49,
   "id": "2855775a",
   "metadata": {},
   "outputs": [
    {
     "name": "stdout",
     "output_type": "stream",
     "text": [
      "+---------+---------+--------------------+--------+--------------+---------+----------+--------------+----------+--------+------+------+\n",
      "|InvoiceNo|StockCode|         Description|Quantity|   InvoiceDate|UnitPrice|CustomerID|       Country| created_d|ptn_yyyy|ptn_mm|ptn_dd|\n",
      "+---------+---------+--------------------+--------+--------------+---------+----------+--------------+----------+--------+------+------+\n",
      "|   536365|   85123A|WHITE HANGING HEA...|       6|12/1/2010 8:26|     2.55|     17850|United Kingdom|2010-12-01|    2010|    12|     1|\n",
      "|   536365|    71053| WHITE METAL LANTERN|       6|12/1/2010 8:26|     3.39|     17850|United Kingdom|2010-12-01|    2010|    12|     1|\n",
      "|   536365|   84406B|CREAM CUPID HEART...|       8|12/1/2010 8:26|     2.75|     17850|United Kingdom|2010-12-01|    2010|    12|     1|\n",
      "|   536365|   84029G|KNITTED UNION FLA...|       6|12/1/2010 8:26|     3.39|     17850|United Kingdom|2010-12-01|    2010|    12|     1|\n",
      "|   536365|   84029E|RED WOOLLY HOTTIE...|       6|12/1/2010 8:26|     3.39|     17850|United Kingdom|2010-12-01|    2010|    12|     1|\n",
      "|   536365|    22752|SET 7 BABUSHKA NE...|       2|12/1/2010 8:26|     7.65|     17850|United Kingdom|2010-12-01|    2010|    12|     1|\n",
      "|   536365|    21730|GLASS STAR FROSTE...|       6|12/1/2010 8:26|     4.25|     17850|United Kingdom|2010-12-01|    2010|    12|     1|\n",
      "|   536366|    22633|HAND WARMER UNION...|       6|12/1/2010 8:28|     1.85|     17850|United Kingdom|2010-12-01|    2010|    12|     1|\n",
      "|   536366|    22632|HAND WARMER RED P...|       6|12/1/2010 8:28|     1.85|     17850|United Kingdom|2010-12-01|    2010|    12|     1|\n",
      "|   536367|    84879|ASSORTED COLOUR B...|      32|12/1/2010 8:34|     1.69|     13047|United Kingdom|2010-12-01|    2010|    12|     1|\n",
      "+---------+---------+--------------------+--------+--------------+---------+----------+--------------+----------+--------+------+------+\n",
      "only showing top 10 rows\n",
      "\n"
     ]
    }
   ],
   "source": [
    "# df.withColumn(\"created_d\", F.date_format(F.to_date(\"InvoiceDate\", \"M/d/yyyy H:mm\"), \"yyyy-MM-dd\"))\\\n",
    "df.withColumn(\"created_d\", F.date_format(F.to_date(\"InvoiceDate\", \"M/d/yyyy H:mm\"), \"yyyy-MM-dd\").cast(DateType()))\\\n",
    "    .withColumn(\"_temp_date\", F.date_format(F.to_date(\"created_d\", \"yyyy-MM-dd\"), \"dd-MM-yyyy\")) \\\n",
    "    .withColumn(\"ptn_yyyy\", F.year(\"created_d\")) \\\n",
    "    .withColumn(\"ptn_mm\", F.month(\"created_d\")) \\\n",
    "    .withColumn(\"ptn_dd\", F.dayofmonth(\"created_d\")) \\\n",
    "    .drop(\"_temp_date\") \\\n",
    "    .show(10)"
   ]
  },
  {
   "cell_type": "code",
   "execution_count": 50,
   "id": "1342465b",
   "metadata": {},
   "outputs": [
    {
     "name": "stdout",
     "output_type": "stream",
     "text": [
      "+---------+---------+--------------------+--------+--------------+---------+----------+--------------+--------------+--------+------+------+\n",
      "|InvoiceNo|StockCode|         Description|Quantity|   InvoiceDate|UnitPrice|CustomerID|       Country|ingestion_date|ptn_yyyy|ptn_mm|ptn_dd|\n",
      "+---------+---------+--------------------+--------+--------------+---------+----------+--------------+--------------+--------+------+------+\n",
      "|   536365|   85123A|WHITE HANGING HEA...|       6|12/1/2010 8:26|     2.55|     17850|United Kingdom|    2025-04-23|    2025|     4|    23|\n",
      "|   536365|    71053| WHITE METAL LANTERN|       6|12/1/2010 8:26|     3.39|     17850|United Kingdom|    2025-04-23|    2025|     4|    23|\n",
      "|   536365|   84406B|CREAM CUPID HEART...|       8|12/1/2010 8:26|     2.75|     17850|United Kingdom|    2025-04-23|    2025|     4|    23|\n",
      "|   536365|   84029G|KNITTED UNION FLA...|       6|12/1/2010 8:26|     3.39|     17850|United Kingdom|    2025-04-23|    2025|     4|    23|\n",
      "|   536365|   84029E|RED WOOLLY HOTTIE...|       6|12/1/2010 8:26|     3.39|     17850|United Kingdom|    2025-04-23|    2025|     4|    23|\n",
      "|   536365|    22752|SET 7 BABUSHKA NE...|       2|12/1/2010 8:26|     7.65|     17850|United Kingdom|    2025-04-23|    2025|     4|    23|\n",
      "|   536365|    21730|GLASS STAR FROSTE...|       6|12/1/2010 8:26|     4.25|     17850|United Kingdom|    2025-04-23|    2025|     4|    23|\n",
      "|   536366|    22633|HAND WARMER UNION...|       6|12/1/2010 8:28|     1.85|     17850|United Kingdom|    2025-04-23|    2025|     4|    23|\n",
      "|   536366|    22632|HAND WARMER RED P...|       6|12/1/2010 8:28|     1.85|     17850|United Kingdom|    2025-04-23|    2025|     4|    23|\n",
      "|   536367|    84879|ASSORTED COLOUR B...|      32|12/1/2010 8:34|     1.69|     13047|United Kingdom|    2025-04-23|    2025|     4|    23|\n",
      "+---------+---------+--------------------+--------+--------------+---------+----------+--------------+--------------+--------+------+------+\n",
      "only showing top 10 rows\n",
      "\n"
     ]
    }
   ],
   "source": [
    "# df.withColumn(\"ingestion_date\", .cast(DateType()))\\\n",
    "df.withColumn(\"ingestion_date\", F.lit(\"2025-04-23\").cast(DateType()))\\\n",
    "    .withColumn(\"ptn_yyyy\", F.year(\"ingestion_date\")) \\\n",
    "    .withColumn(\"ptn_mm\", F.month(\"ingestion_date\")) \\\n",
    "    .withColumn(\"ptn_dd\", F.dayofmonth(\"ingestion_date\")) \\\n",
    "    .show(10)"
   ]
  },
  {
   "cell_type": "code",
   "execution_count": 51,
   "id": "650d1681",
   "metadata": {},
   "outputs": [
    {
     "name": "stdout",
     "output_type": "stream",
     "text": [
      "root\n",
      " |-- InvoiceNo: string (nullable = true)\n",
      " |-- StockCode: string (nullable = true)\n",
      " |-- Description: string (nullable = true)\n",
      " |-- Quantity: string (nullable = true)\n",
      " |-- InvoiceDate: string (nullable = true)\n",
      " |-- UnitPrice: string (nullable = true)\n",
      " |-- CustomerID: string (nullable = true)\n",
      " |-- Country: string (nullable = true)\n",
      " |-- created_d: date (nullable = true)\n",
      " |-- ptn_yyyy: integer (nullable = true)\n",
      " |-- ptn_mm: integer (nullable = true)\n",
      " |-- ptn_dd: integer (nullable = true)\n",
      "\n"
     ]
    }
   ],
   "source": [
    "df.withColumn(\"created_d\", F.date_format(F.to_date(\"InvoiceDate\", \"M/d/yyyy H:mm\"), \"yyyy-MM-dd\").cast(DateType()))\\\n",
    "    .withColumn(\"ptn_yyyy\", F.year(\"created_d\")) \\\n",
    "    .withColumn(\"ptn_mm\", F.month(\"created_d\")) \\\n",
    "    .withColumn(\"ptn_dd\", F.dayofmonth(\"created_d\")) \\\n",
    "    .printSchema()"
   ]
  },
  {
   "cell_type": "code",
   "execution_count": 52,
   "id": "6c6ac31d",
   "metadata": {},
   "outputs": [
    {
     "data": {
      "text/plain": [
       "['invoice_date', 'transaction_date']"
      ]
     },
     "execution_count": 52,
     "metadata": {},
     "output_type": "execute_result"
    }
   ],
   "source": [
    "sample = [\"invoice_date\", \"country\", \"transaction_date\"]\n",
    "\n",
    "date_column = [column_name for column_name in sample if \"date\" in column_name]\n",
    "\n",
    "if len(date_column) > 1:\n",
    "    pass\n",
    "else:\n",
    "    date_col = date_column[0]\n",
    "date_column\n",
    "# date_col"
   ]
  },
  {
   "cell_type": "code",
   "execution_count": 53,
   "id": "9f753d8b",
   "metadata": {},
   "outputs": [],
   "source": [
    "# df.withColumn(\"created_d\", F.date_format(F.to_date(\"InvoiceDate\", \"M/d/yyyy H:mm\"), \"yyyy-MM-dd\"))\\\n",
    "df_type = df.withColumn(\"created_d\", F.date_format(F.to_date(\"InvoiceDate\", \"M/d/yyyy H:mm\"), \"yyyy-MM-dd\").cast(DateType()))\\\n",
    "    .withColumn(\"ptn_yyyy\", F.year(\"created_d\")) \\\n",
    "    .withColumn(\"ptn_mm\", F.month(\"created_d\")) \\\n",
    "    .withColumn(\"ptn_dd\", F.dayofmonth(\"created_d\")) \\\n",
    "    .dtypes\n",
    "df_type = {field_name: data_type for field_name, data_type in df_type}"
   ]
  },
  {
   "cell_type": "code",
   "execution_count": 54,
   "id": "df375571",
   "metadata": {},
   "outputs": [
    {
     "data": {
      "text/plain": [
       "{'InvoiceNo': 'string',\n",
       " 'StockCode': 'string',\n",
       " 'Description': 'string',\n",
       " 'Quantity': 'string',\n",
       " 'InvoiceDate': 'string',\n",
       " 'UnitPrice': 'string',\n",
       " 'CustomerID': 'string',\n",
       " 'Country': 'string',\n",
       " 'created_d': 'date',\n",
       " 'ptn_yyyy': 'int',\n",
       " 'ptn_mm': 'int',\n",
       " 'ptn_dd': 'int'}"
      ]
     },
     "execution_count": 54,
     "metadata": {},
     "output_type": "execute_result"
    }
   ],
   "source": [
    "df_type"
   ]
  },
  {
   "cell_type": "code",
   "execution_count": 55,
   "id": "75c2f7d5",
   "metadata": {},
   "outputs": [
    {
     "name": "stdout",
     "output_type": "stream",
     "text": [
      "+---------+---------+--------------------+--------+--------------+---------+----------+--------------+-------------------+\n",
      "|InvoiceNo|StockCode|         Description|Quantity|   InvoiceDate|UnitPrice|CustomerID|       Country|  invoice_timestamp|\n",
      "+---------+---------+--------------------+--------+--------------+---------+----------+--------------+-------------------+\n",
      "|   536365|   85123A|WHITE HANGING HEA...|       6|12/1/2010 8:26|     2.55|     17850|United Kingdom|2010-12-01 08:26:00|\n",
      "|   536365|    71053| WHITE METAL LANTERN|       6|12/1/2010 8:26|     3.39|     17850|United Kingdom|2010-12-01 08:26:00|\n",
      "|   536365|   84406B|CREAM CUPID HEART...|       8|12/1/2010 8:26|     2.75|     17850|United Kingdom|2010-12-01 08:26:00|\n",
      "|   536365|   84029G|KNITTED UNION FLA...|       6|12/1/2010 8:26|     3.39|     17850|United Kingdom|2010-12-01 08:26:00|\n",
      "|   536365|   84029E|RED WOOLLY HOTTIE...|       6|12/1/2010 8:26|     3.39|     17850|United Kingdom|2010-12-01 08:26:00|\n",
      "|   536365|    22752|SET 7 BABUSHKA NE...|       2|12/1/2010 8:26|     7.65|     17850|United Kingdom|2010-12-01 08:26:00|\n",
      "|   536365|    21730|GLASS STAR FROSTE...|       6|12/1/2010 8:26|     4.25|     17850|United Kingdom|2010-12-01 08:26:00|\n",
      "|   536366|    22633|HAND WARMER UNION...|       6|12/1/2010 8:28|     1.85|     17850|United Kingdom|2010-12-01 08:28:00|\n",
      "|   536366|    22632|HAND WARMER RED P...|       6|12/1/2010 8:28|     1.85|     17850|United Kingdom|2010-12-01 08:28:00|\n",
      "|   536367|    84879|ASSORTED COLOUR B...|      32|12/1/2010 8:34|     1.69|     13047|United Kingdom|2010-12-01 08:34:00|\n",
      "|   536367|    22745|POPPY'S PLAYHOUSE...|       6|12/1/2010 8:34|      2.1|     13047|United Kingdom|2010-12-01 08:34:00|\n",
      "|   536367|    22748|POPPY'S PLAYHOUSE...|       6|12/1/2010 8:34|      2.1|     13047|United Kingdom|2010-12-01 08:34:00|\n",
      "|   536367|    22749|FELTCRAFT PRINCES...|       8|12/1/2010 8:34|     3.75|     13047|United Kingdom|2010-12-01 08:34:00|\n",
      "|   536367|    22310|IVORY KNITTED MUG...|       6|12/1/2010 8:34|     1.65|     13047|United Kingdom|2010-12-01 08:34:00|\n",
      "|   536367|    84969|BOX OF 6 ASSORTED...|       6|12/1/2010 8:34|     4.25|     13047|United Kingdom|2010-12-01 08:34:00|\n",
      "|   536367|    22623|BOX OF VINTAGE JI...|       3|12/1/2010 8:34|     4.95|     13047|United Kingdom|2010-12-01 08:34:00|\n",
      "|   536367|    22622|BOX OF VINTAGE AL...|       2|12/1/2010 8:34|     9.95|     13047|United Kingdom|2010-12-01 08:34:00|\n",
      "|   536367|    21754|HOME BUILDING BLO...|       3|12/1/2010 8:34|     5.95|     13047|United Kingdom|2010-12-01 08:34:00|\n",
      "|   536367|    21755|LOVE BUILDING BLO...|       3|12/1/2010 8:34|     5.95|     13047|United Kingdom|2010-12-01 08:34:00|\n",
      "|   536367|    21777|RECIPE BOX WITH M...|       4|12/1/2010 8:34|     7.95|     13047|United Kingdom|2010-12-01 08:34:00|\n",
      "+---------+---------+--------------------+--------+--------------+---------+----------+--------------+-------------------+\n",
      "only showing top 20 rows\n",
      "\n"
     ]
    }
   ],
   "source": [
    "# df.withColumn(\"created_d\", F.date_format(F.to_date(\"InvoiceDate\", \"M/d/yyyy H:mm\"), \"yyyy-MM-dd\"))\\\n",
    "df.withColumn(\"invoice_timestamp\", F.date_format(F.to_timestamp(\"InvoiceDate\", \"M/d/yyyy H:mm\"), \"yyyy-MM-dd HH:mm:ss\")) \\\n",
    "    .show()"
   ]
  },
  {
   "cell_type": "code",
   "execution_count": 56,
   "id": "9eb5e8c0",
   "metadata": {},
   "outputs": [
    {
     "name": "stdout",
     "output_type": "stream",
     "text": [
      "root\n",
      " |-- InvoiceNo: string (nullable = true)\n",
      " |-- StockCode: string (nullable = true)\n",
      " |-- Description: string (nullable = true)\n",
      " |-- Quantity: string (nullable = true)\n",
      " |-- InvoiceDate: string (nullable = true)\n",
      " |-- UnitPrice: string (nullable = true)\n",
      " |-- CustomerID: string (nullable = true)\n",
      " |-- Country: string (nullable = true)\n",
      "\n"
     ]
    }
   ],
   "source": [
    "df.printSchema()"
   ]
  },
  {
   "cell_type": "code",
   "execution_count": 57,
   "id": "8dc0b526",
   "metadata": {},
   "outputs": [
    {
     "name": "stdout",
     "output_type": "stream",
     "text": [
      "+---------------+\n",
      "|is_contain_char|\n",
      "+---------------+\n",
      "|               |\n",
      "|               |\n",
      "|               |\n",
      "|               |\n",
      "|               |\n",
      "+---------------+\n",
      "only showing top 5 rows\n",
      "\n"
     ]
    }
   ],
   "source": [
    "df.select(F.regexp_extract(\"InvoiceNo\", r'\\D', 0).alias(\"is_contain_char\")).show(5)"
   ]
  },
  {
   "cell_type": "code",
   "execution_count": 58,
   "id": "10745b7a",
   "metadata": {},
   "outputs": [
    {
     "name": "stdout",
     "output_type": "stream",
     "text": [
      "+---------------+\n",
      "|is_contain_char|\n",
      "+---------------+\n",
      "+---------------+\n",
      "\n"
     ]
    }
   ],
   "source": [
    "df.select(F.regexp_extract(\"InvoiceNo\", r'\\D', 0).alias(\"is_contain_char\"))\\\n",
    "    .where((F.col(\"is_contain_char\") != \"\") & (F.col(\"is_contain_char\") != \"C\") & ((F.col(\"is_contain_char\") != \"A\"))) \\\n",
    "    .show()"
   ]
  },
  {
   "cell_type": "code",
   "execution_count": 59,
   "id": "34683a1f",
   "metadata": {},
   "outputs": [
    {
     "name": "stdout",
     "output_type": "stream",
     "text": [
      "+---------------+\n",
      "|is_contain_char|\n",
      "+---------------+\n",
      "+---------------+\n",
      "\n"
     ]
    }
   ],
   "source": [
    "df.select(F.regexp_extract(\"Quantity\", r'\\D', 0).alias(\"is_contain_char\"))\\\n",
    "    .where((F.col(\"is_contain_char\") != \"\") & ((F.col(\"is_contain_char\") != \"-\"))) \\\n",
    "    .show()"
   ]
  },
  {
   "cell_type": "code",
   "execution_count": 60,
   "id": "775a692a",
   "metadata": {},
   "outputs": [
    {
     "name": "stdout",
     "output_type": "stream",
     "text": [
      "+---------------+\n",
      "|is_contain_char|\n",
      "+---------------+\n",
      "+---------------+\n",
      "\n"
     ]
    }
   ],
   "source": [
    "df.select(F.regexp_extract(\"Quantity\", r'\\.', 0).alias(\"is_contain_char\"))\\\n",
    "    .where((F.col(\"is_contain_char\") != \"\")) \\\n",
    "    .show()"
   ]
  },
  {
   "cell_type": "code",
   "execution_count": 61,
   "id": "9d8892a4",
   "metadata": {},
   "outputs": [
    {
     "name": "stdout",
     "output_type": "stream",
     "text": [
      "+---------+---------+-----------+--------+-----------+---------+----------+-------+----------+\n",
      "|InvoiceNo|StockCode|Description|Quantity|InvoiceDate|UnitPrice|CustomerID|Country|is_contain|\n",
      "+---------+---------+-----------+--------+-----------+---------+----------+-------+----------+\n",
      "+---------+---------+-----------+--------+-----------+---------+----------+-------+----------+\n",
      "\n"
     ]
    }
   ],
   "source": [
    "df.withColumn(\"is_contain\", F.regexp_extract(\"CustomerID\", r\"\\D\", 0))\\\n",
    "    .where(\n",
    "        (F.col(\"is_contain\") != \"\")\n",
    "    ) \\\n",
    "    .show()"
   ]
  },
  {
   "cell_type": "code",
   "execution_count": 62,
   "id": "96b86309",
   "metadata": {},
   "outputs": [
    {
     "data": {
      "text/plain": [
       "'3.3.4'"
      ]
     },
     "execution_count": 62,
     "metadata": {},
     "output_type": "execute_result"
    }
   ],
   "source": [
    "spark.sparkContext._jvm.org.apache.hadoop.util.VersionInfo.getVersion()"
   ]
  },
  {
   "cell_type": "code",
   "execution_count": 63,
   "id": "fa36824f",
   "metadata": {},
   "outputs": [
    {
     "data": {
      "text/plain": [
       "True"
      ]
     },
     "execution_count": 63,
     "metadata": {},
     "output_type": "execute_result"
    }
   ],
   "source": [
    "spark.sparkContext._jvm.org.apache.hadoop.util.NativeCodeLoader.isNativeCodeLoaded()"
   ]
  },
  {
   "cell_type": "code",
   "execution_count": 64,
   "id": "df1493bd",
   "metadata": {},
   "outputs": [],
   "source": [
    "spark.stop()"
   ]
  }
 ],
 "metadata": {
  "kernelspec": {
   "display_name": "kde-ecomm-08Wq7dd1-py3.12",
   "language": "python",
   "name": "python3"
  },
  "language_info": {
   "codemirror_mode": {
    "name": "ipython",
    "version": 3
   },
   "file_extension": ".py",
   "mimetype": "text/x-python",
   "name": "python",
   "nbconvert_exporter": "python",
   "pygments_lexer": "ipython3",
   "version": "3.12.10"
  }
 },
 "nbformat": 4,
 "nbformat_minor": 5
}
